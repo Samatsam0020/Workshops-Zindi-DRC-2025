{
 "cells": [
  {
   "cell_type": "markdown",
   "id": "45691324-80dd-4454-b2bb-6ab331fe3490",
   "metadata": {},
   "source": [
    "# Machine learning 101"
   ]
  },
  {
   "cell_type": "markdown",
   "id": "a0ed7e25-af2f-4c5b-b3c7-b3af108ad873",
   "metadata": {},
   "source": [
    "# I. Les bases de python "
   ]
  },
  {
   "cell_type": "markdown",
   "id": "4ac85abf-75b6-424a-b2cc-1f109169a22f",
   "metadata": {
    "jp-MarkdownHeadingCollapsed": true
   },
   "source": [
    "#### 1. Variables et types de données"
   ]
  },
  {
   "cell_type": "code",
   "execution_count": null,
   "id": "1b57cf67-5620-46ae-988d-0218e8d5e508",
   "metadata": {},
   "outputs": [],
   "source": [
    "# Déclaration de variables\n",
    "titre = \"Machine Learning\"\n",
    "age = 101\n",
    "pi = 3.14159\n",
    "\n",
    "print(f\"Bienvenue dans le workshop {titre}\")\n",
    "print(f\"Pi vaut {pi}\")"
   ]
  },
  {
   "cell_type": "markdown",
   "id": "16cb5f60-da5c-44ff-940a-613bb93762c1",
   "metadata": {
    "jp-MarkdownHeadingCollapsed": true
   },
   "source": [
    "#### 2. Structure de données"
   ]
  },
  {
   "cell_type": "code",
   "execution_count": null,
   "id": "1cef9824-2740-46dd-aef8-db12ad2f1489",
   "metadata": {},
   "outputs": [],
   "source": [
    "#Listes\n",
    "fruits = [\"Pomme\", \"Banane\", \"Orange\"]\n",
    "print(fruits)"
   ]
  },
  {
   "cell_type": "code",
   "execution_count": null,
   "id": "b2944be0-b2d0-47d1-9e6e-60018870a53a",
   "metadata": {},
   "outputs": [],
   "source": [
    "#Dictionnaires\n",
    "notes = {\"Alice\": 85, \"Bob\": 90, \"Charlie\": 78}\n",
    "print(notes)"
   ]
  },
  {
   "cell_type": "markdown",
   "id": "bc168004-4412-4012-96ef-5cfb879986e1",
   "metadata": {
    "jp-MarkdownHeadingCollapsed": true
   },
   "source": [
    "#### 3. Boucles et conditions"
   ]
  },
  {
   "cell_type": "code",
   "execution_count": null,
   "id": "2991513c-4203-413b-8120-ec5ae9ae4a3a",
   "metadata": {},
   "outputs": [],
   "source": [
    "#Boucles et conditions\n",
    "for fruit in fruits:\n",
    "    if fruit == \"Orange\":\n",
    "        print(f\"{fruit} est délicieux !\")\n",
    "    else:\n",
    "        print(f\"{fruit} est aussi bon.\")"
   ]
  },
  {
   "cell_type": "markdown",
   "id": "53f16f1d-e0f1-4d46-8d27-4ec90744f712",
   "metadata": {
    "jp-MarkdownHeadingCollapsed": true
   },
   "source": [
    "#### 4. Fonctions"
   ]
  },
  {
   "cell_type": "code",
   "execution_count": 2,
   "id": "6d58b72a-e446-468b-ba13-ad55a36a0c37",
   "metadata": {},
   "outputs": [],
   "source": [
    "#Fonctions\n",
    "def carre(x):\n",
    "    return x ** 2\n",
    "\n",
    "print(carre(5))"
   ]
  },
  {
   "cell_type": "markdown",
   "id": "eaedaa86-d6f5-49ea-a308-019d074d733d",
   "metadata": {
    "jp-MarkdownHeadingCollapsed": true
   },
   "source": [
    "#### 5. Classes et instances"
   ]
  },
  {
   "cell_type": "code",
   "execution_count": null,
   "id": "c1c8fad5-fdd3-48a4-b45b-ce5c292587d1",
   "metadata": {},
   "outputs": [],
   "source": [
    "#Classes\n",
    "# Définition d'une classe\n",
    "class Voiture:\n",
    "    def __init__(self, marque, modele):\n",
    "        self.marque = marque  # Attribut\n",
    "        self.modele = modele  # Attribut\n",
    "    \n",
    "    def demarrer(self):  # Méthode\n",
    "        print(f\"La voiture {self.marque} {self.modele} démarre.\")\n",
    "\n",
    "\n",
    "\n",
    "\n",
    "# Instanciation d'un objet\n",
    "ma_voiture = Voiture(marque = \"Tesla\", modele = \"Model 3\")\n",
    "print(ma_voiture.marque)  # Accéder à un attribut\n",
    "ma_voiture.demarrer()  # Appeler une méthode"
   ]
  },
  {
   "cell_type": "markdown",
   "id": "37cff4a8-d2a1-402c-b3a4-8b4ddcbcc6c2",
   "metadata": {
    "jp-MarkdownHeadingCollapsed": true
   },
   "source": [
    "#### 6. Importation des modules"
   ]
  },
  {
   "cell_type": "code",
   "execution_count": null,
   "id": "9b175a90-9250-4e24-aea4-5428a3749594",
   "metadata": {},
   "outputs": [],
   "source": [
    "#Importation des modules\n",
    "import math\n",
    "print(math.sqrt(16))  # Calcul de la racine carrée"
   ]
  },
  {
   "cell_type": "code",
   "execution_count": null,
   "id": "89cd237f-0dec-4b3d-8ec0-79b5c9ae7cfa",
   "metadata": {},
   "outputs": [],
   "source": [
    "# Importation avec alias\n",
    "import numpy as np\n",
    "array = np.array([1, 2, 3])\n",
    "print(array)"
   ]
  },
  {
   "cell_type": "markdown",
   "id": "c3f2f413-9cdb-4b94-a9e6-1a54d8a37567",
   "metadata": {},
   "source": [
    "# II. C'est quoi le machine learning ?"
   ]
  },
  {
   "cell_type": "markdown",
   "id": "efda0531-6c23-4035-80c1-a7999bc00941",
   "metadata": {},
   "source": [
    "#### 1. Définition\n",
    "\n",
    "Le machine learning est une branche de l’intelligence artificielle qui consiste à donner à une machine la capacité d’apprendre plutôt que de la programmer de façon explicite.\n",
    "\n",
    "#### 2. Domaines d'application\n",
    "\n",
    "- **IA générative** : Cela inclut des modèles comme ChatGPT qui peuvent créer du texte, des images, de la musique, etc.\n",
    "- **Vision par ordinateur** : Permet la reconnaissance d'images, la détection d'objets et la segmentation d'images, utilisé dans des domaines tels que la sécurité, l'automobile (voitures autonomes) et la santé (diagnostic médical).\n",
    "- **Finance** : Utilisé pour le scoring de crédit, la détection de fraudes, et la prévision des tendances du marché.\n",
    "- **Santé** : Aide au diagnostic médical, à la découverte de médicaments et à la personnalisation des traitements.\n",
    "- **Systèmes de recommandation** : Les services comme Netflix et Spotify utilisent des recommandations pour suggérer des films, des émissions et de la musique. Amazon et eBay recommandent des produits en se basant sur les achats précédents et les comportements de navigation. Des plateformes comme Facebook et Instagram suggèrent des amis ou des contenus en fonction des interactions passées.\n",
    "\n",
    "#### 3. Types\n",
    "\n",
    "![type machine learning](img/ml.png)\n",
    "\n",
    "- **Apprentissage supervisé** : Comme son nom l’indique, il consiste à superviser l’apprentissage de la machine, de la même manière qu’un professeur supervise l’apprentissage de ses élèves en leur montrant des exemples de questions / réponses qu’ils doivent apprendre.\n",
    "\n",
    "- **Apprentissage non supervisé** : Contrairement à la méthode précédente, celle-ci consiste à laisser la machine apprendre par elle-même certaines structures présentes dans les données, sans la contraindre à apprendre une simple relation d’entrée / sortie X → y. Par exemple, nous pouvons lui présenter les groupes d’animaux vus précédemment, sans préciser s’il s’agit de chats ou de chiens, et lui demander simplement de les regrouper selon leur ressemblance. Autrement dit, nous fournissons uniquement les attributs X, sans indiquer la sortie y attendue.\n",
    "\n",
    "- **Apprentissage par renforcement** : L’idée est de créer un agent, libre d’entreprendre des actions au sein d’un environnement, et de récompenser cet agent lorsque les actions qu’il choisit de prendre le mènent au résultat souhaité."
   ]
  },
  {
   "cell_type": "markdown",
   "id": "d8f8c759-3de4-48ed-be2a-596d35734ff3",
   "metadata": {},
   "source": [
    "# III. La régression linéaire"
   ]
  },
  {
   "cell_type": "markdown",
   "id": "4fd0dc45-6fb1-4705-b64d-1a4557254ab2",
   "metadata": {},
   "source": [
    "#### 1. Les bases\n",
    "\n",
    "**- on cherche à prédire une quantité**\n",
    "\n",
    "**- Exemple :Imaginez que vous souhaitiez prédire le prix d’une maison en fonction de sa surface habitable.\n",
    "Pour ce faire, on montre des exemples de maisons à notre machine.**\n",
    "\n",
    "![](img/reg1.png)\n",
    "\n",
    "![](img/reg2.png)"
   ]
  },
  {
   "cell_type": "markdown",
   "id": "1c1e9d00-703e-4f22-88b2-bb9bf2c6f83f",
   "metadata": {},
   "source": [
    "#### 2. Exemple pratique\n",
    "\n",
    "### Problème\n",
    "## Contexte\n",
    "\n",
    "Vous êtes un analyste de données travaillant pour une agence immobilière en Californie. Votre entreprise souhaite mieux comprendre le marché immobilier local afin de fixer des prix compétitifs pour les maisons à vendre. Pour ce faire, vous décidez d'utiliser un modèle de régression linéaire pour prédire le prix des maisons en fonction de diverses caractéristiques.\n",
    "\n",
    "---\n",
    "\n",
    "**Objectif** : Prédire le prix médian des maisons dans une région donnée de Californie en utilisant les caractéristiques suivantes :\n",
    "\n",
    "- **MedInc** : Revenu médian en dollars par an (USD).\n",
    "- **HouseAge** : Âge médian des maisons en années.\n",
    "- **AveRooms** : Nombre moyen de pièces par ménage.\n",
    "- **AveBedrms** : Nombre moyen de chambres par ménage.\n",
    "- **Population** : Nombre total d'habitants dans le groupe de blocs.\n",
    "- **AveOccup** : Nombre moyen de membres par ménage.\n",
    "- **Latitude** : Latitude en degrés.\n",
    "- **Longitude** : Longitude en degrés.\n",
    "\n",
    "-**Target** :  prix prédit en unités de 100,000 USD.\n",
    "\n",
    "---\n",
    "\n",
    "**Données**\n",
    "\n",
    "Vous disposez d'un dataset contenant les informations suivantes :\n",
    "\n",
    "- **X** : Un tableau contenant les caractéristiques des maisons (nombre de chambres, superficie, etc.).\n",
    "- **y** : Un tableau contenant le prix médian des maisons dans la région.\n",
    "\n",
    "\n",
    "![](img/example1.png)"
   ]
  },
  {
   "cell_type": "code",
   "execution_count": 1,
   "id": "bfb8d519-8299-4f23-bd66-53ee643a42f0",
   "metadata": {},
   "outputs": [],
   "source": [
    "#Les importations\n",
    "import numpy as np\n",
    "import matplotlib.pyplot as plt\n",
    "from sklearn.linear_model import LinearRegression\n",
    "from sklearn.datasets import fetch_california_housing"
   ]
  },
  {
   "cell_type": "code",
   "execution_count": 2,
   "id": "4eac5590-e1ad-4a9c-ae47-9923200b745c",
   "metadata": {},
   "outputs": [],
   "source": [
    "#Le dataset -> X : les features ; y : le target\n",
    "boston = fetch_california_housing()\n",
    "\n",
    "X = boston.data\n",
    "y = boston.target"
   ]
  },
  {
   "cell_type": "code",
   "execution_count": 3,
   "id": "269f643f-fcfd-48ed-9c28-1b5fb3b05d7d",
   "metadata": {},
   "outputs": [
    {
     "data": {
      "text/html": [
       "<style>#sk-container-id-1 {\n",
       "  /* Definition of color scheme common for light and dark mode */\n",
       "  --sklearn-color-text: black;\n",
       "  --sklearn-color-line: gray;\n",
       "  /* Definition of color scheme for unfitted estimators */\n",
       "  --sklearn-color-unfitted-level-0: #fff5e6;\n",
       "  --sklearn-color-unfitted-level-1: #f6e4d2;\n",
       "  --sklearn-color-unfitted-level-2: #ffe0b3;\n",
       "  --sklearn-color-unfitted-level-3: chocolate;\n",
       "  /* Definition of color scheme for fitted estimators */\n",
       "  --sklearn-color-fitted-level-0: #f0f8ff;\n",
       "  --sklearn-color-fitted-level-1: #d4ebff;\n",
       "  --sklearn-color-fitted-level-2: #b3dbfd;\n",
       "  --sklearn-color-fitted-level-3: cornflowerblue;\n",
       "\n",
       "  /* Specific color for light theme */\n",
       "  --sklearn-color-text-on-default-background: var(--sg-text-color, var(--theme-code-foreground, var(--jp-content-font-color1, black)));\n",
       "  --sklearn-color-background: var(--sg-background-color, var(--theme-background, var(--jp-layout-color0, white)));\n",
       "  --sklearn-color-border-box: var(--sg-text-color, var(--theme-code-foreground, var(--jp-content-font-color1, black)));\n",
       "  --sklearn-color-icon: #696969;\n",
       "\n",
       "  @media (prefers-color-scheme: dark) {\n",
       "    /* Redefinition of color scheme for dark theme */\n",
       "    --sklearn-color-text-on-default-background: var(--sg-text-color, var(--theme-code-foreground, var(--jp-content-font-color1, white)));\n",
       "    --sklearn-color-background: var(--sg-background-color, var(--theme-background, var(--jp-layout-color0, #111)));\n",
       "    --sklearn-color-border-box: var(--sg-text-color, var(--theme-code-foreground, var(--jp-content-font-color1, white)));\n",
       "    --sklearn-color-icon: #878787;\n",
       "  }\n",
       "}\n",
       "\n",
       "#sk-container-id-1 {\n",
       "  color: var(--sklearn-color-text);\n",
       "}\n",
       "\n",
       "#sk-container-id-1 pre {\n",
       "  padding: 0;\n",
       "}\n",
       "\n",
       "#sk-container-id-1 input.sk-hidden--visually {\n",
       "  border: 0;\n",
       "  clip: rect(1px 1px 1px 1px);\n",
       "  clip: rect(1px, 1px, 1px, 1px);\n",
       "  height: 1px;\n",
       "  margin: -1px;\n",
       "  overflow: hidden;\n",
       "  padding: 0;\n",
       "  position: absolute;\n",
       "  width: 1px;\n",
       "}\n",
       "\n",
       "#sk-container-id-1 div.sk-dashed-wrapped {\n",
       "  border: 1px dashed var(--sklearn-color-line);\n",
       "  margin: 0 0.4em 0.5em 0.4em;\n",
       "  box-sizing: border-box;\n",
       "  padding-bottom: 0.4em;\n",
       "  background-color: var(--sklearn-color-background);\n",
       "}\n",
       "\n",
       "#sk-container-id-1 div.sk-container {\n",
       "  /* jupyter's `normalize.less` sets `[hidden] { display: none; }`\n",
       "     but bootstrap.min.css set `[hidden] { display: none !important; }`\n",
       "     so we also need the `!important` here to be able to override the\n",
       "     default hidden behavior on the sphinx rendered scikit-learn.org.\n",
       "     See: https://github.com/scikit-learn/scikit-learn/issues/21755 */\n",
       "  display: inline-block !important;\n",
       "  position: relative;\n",
       "}\n",
       "\n",
       "#sk-container-id-1 div.sk-text-repr-fallback {\n",
       "  display: none;\n",
       "}\n",
       "\n",
       "div.sk-parallel-item,\n",
       "div.sk-serial,\n",
       "div.sk-item {\n",
       "  /* draw centered vertical line to link estimators */\n",
       "  background-image: linear-gradient(var(--sklearn-color-text-on-default-background), var(--sklearn-color-text-on-default-background));\n",
       "  background-size: 2px 100%;\n",
       "  background-repeat: no-repeat;\n",
       "  background-position: center center;\n",
       "}\n",
       "\n",
       "/* Parallel-specific style estimator block */\n",
       "\n",
       "#sk-container-id-1 div.sk-parallel-item::after {\n",
       "  content: \"\";\n",
       "  width: 100%;\n",
       "  border-bottom: 2px solid var(--sklearn-color-text-on-default-background);\n",
       "  flex-grow: 1;\n",
       "}\n",
       "\n",
       "#sk-container-id-1 div.sk-parallel {\n",
       "  display: flex;\n",
       "  align-items: stretch;\n",
       "  justify-content: center;\n",
       "  background-color: var(--sklearn-color-background);\n",
       "  position: relative;\n",
       "}\n",
       "\n",
       "#sk-container-id-1 div.sk-parallel-item {\n",
       "  display: flex;\n",
       "  flex-direction: column;\n",
       "}\n",
       "\n",
       "#sk-container-id-1 div.sk-parallel-item:first-child::after {\n",
       "  align-self: flex-end;\n",
       "  width: 50%;\n",
       "}\n",
       "\n",
       "#sk-container-id-1 div.sk-parallel-item:last-child::after {\n",
       "  align-self: flex-start;\n",
       "  width: 50%;\n",
       "}\n",
       "\n",
       "#sk-container-id-1 div.sk-parallel-item:only-child::after {\n",
       "  width: 0;\n",
       "}\n",
       "\n",
       "/* Serial-specific style estimator block */\n",
       "\n",
       "#sk-container-id-1 div.sk-serial {\n",
       "  display: flex;\n",
       "  flex-direction: column;\n",
       "  align-items: center;\n",
       "  background-color: var(--sklearn-color-background);\n",
       "  padding-right: 1em;\n",
       "  padding-left: 1em;\n",
       "}\n",
       "\n",
       "\n",
       "/* Toggleable style: style used for estimator/Pipeline/ColumnTransformer box that is\n",
       "clickable and can be expanded/collapsed.\n",
       "- Pipeline and ColumnTransformer use this feature and define the default style\n",
       "- Estimators will overwrite some part of the style using the `sk-estimator` class\n",
       "*/\n",
       "\n",
       "/* Pipeline and ColumnTransformer style (default) */\n",
       "\n",
       "#sk-container-id-1 div.sk-toggleable {\n",
       "  /* Default theme specific background. It is overwritten whether we have a\n",
       "  specific estimator or a Pipeline/ColumnTransformer */\n",
       "  background-color: var(--sklearn-color-background);\n",
       "}\n",
       "\n",
       "/* Toggleable label */\n",
       "#sk-container-id-1 label.sk-toggleable__label {\n",
       "  cursor: pointer;\n",
       "  display: block;\n",
       "  width: 100%;\n",
       "  margin-bottom: 0;\n",
       "  padding: 0.5em;\n",
       "  box-sizing: border-box;\n",
       "  text-align: center;\n",
       "}\n",
       "\n",
       "#sk-container-id-1 label.sk-toggleable__label-arrow:before {\n",
       "  /* Arrow on the left of the label */\n",
       "  content: \"▸\";\n",
       "  float: left;\n",
       "  margin-right: 0.25em;\n",
       "  color: var(--sklearn-color-icon);\n",
       "}\n",
       "\n",
       "#sk-container-id-1 label.sk-toggleable__label-arrow:hover:before {\n",
       "  color: var(--sklearn-color-text);\n",
       "}\n",
       "\n",
       "/* Toggleable content - dropdown */\n",
       "\n",
       "#sk-container-id-1 div.sk-toggleable__content {\n",
       "  max-height: 0;\n",
       "  max-width: 0;\n",
       "  overflow: hidden;\n",
       "  text-align: left;\n",
       "  /* unfitted */\n",
       "  background-color: var(--sklearn-color-unfitted-level-0);\n",
       "}\n",
       "\n",
       "#sk-container-id-1 div.sk-toggleable__content.fitted {\n",
       "  /* fitted */\n",
       "  background-color: var(--sklearn-color-fitted-level-0);\n",
       "}\n",
       "\n",
       "#sk-container-id-1 div.sk-toggleable__content pre {\n",
       "  margin: 0.2em;\n",
       "  border-radius: 0.25em;\n",
       "  color: var(--sklearn-color-text);\n",
       "  /* unfitted */\n",
       "  background-color: var(--sklearn-color-unfitted-level-0);\n",
       "}\n",
       "\n",
       "#sk-container-id-1 div.sk-toggleable__content.fitted pre {\n",
       "  /* unfitted */\n",
       "  background-color: var(--sklearn-color-fitted-level-0);\n",
       "}\n",
       "\n",
       "#sk-container-id-1 input.sk-toggleable__control:checked~div.sk-toggleable__content {\n",
       "  /* Expand drop-down */\n",
       "  max-height: 200px;\n",
       "  max-width: 100%;\n",
       "  overflow: auto;\n",
       "}\n",
       "\n",
       "#sk-container-id-1 input.sk-toggleable__control:checked~label.sk-toggleable__label-arrow:before {\n",
       "  content: \"▾\";\n",
       "}\n",
       "\n",
       "/* Pipeline/ColumnTransformer-specific style */\n",
       "\n",
       "#sk-container-id-1 div.sk-label input.sk-toggleable__control:checked~label.sk-toggleable__label {\n",
       "  color: var(--sklearn-color-text);\n",
       "  background-color: var(--sklearn-color-unfitted-level-2);\n",
       "}\n",
       "\n",
       "#sk-container-id-1 div.sk-label.fitted input.sk-toggleable__control:checked~label.sk-toggleable__label {\n",
       "  background-color: var(--sklearn-color-fitted-level-2);\n",
       "}\n",
       "\n",
       "/* Estimator-specific style */\n",
       "\n",
       "/* Colorize estimator box */\n",
       "#sk-container-id-1 div.sk-estimator input.sk-toggleable__control:checked~label.sk-toggleable__label {\n",
       "  /* unfitted */\n",
       "  background-color: var(--sklearn-color-unfitted-level-2);\n",
       "}\n",
       "\n",
       "#sk-container-id-1 div.sk-estimator.fitted input.sk-toggleable__control:checked~label.sk-toggleable__label {\n",
       "  /* fitted */\n",
       "  background-color: var(--sklearn-color-fitted-level-2);\n",
       "}\n",
       "\n",
       "#sk-container-id-1 div.sk-label label.sk-toggleable__label,\n",
       "#sk-container-id-1 div.sk-label label {\n",
       "  /* The background is the default theme color */\n",
       "  color: var(--sklearn-color-text-on-default-background);\n",
       "}\n",
       "\n",
       "/* On hover, darken the color of the background */\n",
       "#sk-container-id-1 div.sk-label:hover label.sk-toggleable__label {\n",
       "  color: var(--sklearn-color-text);\n",
       "  background-color: var(--sklearn-color-unfitted-level-2);\n",
       "}\n",
       "\n",
       "/* Label box, darken color on hover, fitted */\n",
       "#sk-container-id-1 div.sk-label.fitted:hover label.sk-toggleable__label.fitted {\n",
       "  color: var(--sklearn-color-text);\n",
       "  background-color: var(--sklearn-color-fitted-level-2);\n",
       "}\n",
       "\n",
       "/* Estimator label */\n",
       "\n",
       "#sk-container-id-1 div.sk-label label {\n",
       "  font-family: monospace;\n",
       "  font-weight: bold;\n",
       "  display: inline-block;\n",
       "  line-height: 1.2em;\n",
       "}\n",
       "\n",
       "#sk-container-id-1 div.sk-label-container {\n",
       "  text-align: center;\n",
       "}\n",
       "\n",
       "/* Estimator-specific */\n",
       "#sk-container-id-1 div.sk-estimator {\n",
       "  font-family: monospace;\n",
       "  border: 1px dotted var(--sklearn-color-border-box);\n",
       "  border-radius: 0.25em;\n",
       "  box-sizing: border-box;\n",
       "  margin-bottom: 0.5em;\n",
       "  /* unfitted */\n",
       "  background-color: var(--sklearn-color-unfitted-level-0);\n",
       "}\n",
       "\n",
       "#sk-container-id-1 div.sk-estimator.fitted {\n",
       "  /* fitted */\n",
       "  background-color: var(--sklearn-color-fitted-level-0);\n",
       "}\n",
       "\n",
       "/* on hover */\n",
       "#sk-container-id-1 div.sk-estimator:hover {\n",
       "  /* unfitted */\n",
       "  background-color: var(--sklearn-color-unfitted-level-2);\n",
       "}\n",
       "\n",
       "#sk-container-id-1 div.sk-estimator.fitted:hover {\n",
       "  /* fitted */\n",
       "  background-color: var(--sklearn-color-fitted-level-2);\n",
       "}\n",
       "\n",
       "/* Specification for estimator info (e.g. \"i\" and \"?\") */\n",
       "\n",
       "/* Common style for \"i\" and \"?\" */\n",
       "\n",
       ".sk-estimator-doc-link,\n",
       "a:link.sk-estimator-doc-link,\n",
       "a:visited.sk-estimator-doc-link {\n",
       "  float: right;\n",
       "  font-size: smaller;\n",
       "  line-height: 1em;\n",
       "  font-family: monospace;\n",
       "  background-color: var(--sklearn-color-background);\n",
       "  border-radius: 1em;\n",
       "  height: 1em;\n",
       "  width: 1em;\n",
       "  text-decoration: none !important;\n",
       "  margin-left: 1ex;\n",
       "  /* unfitted */\n",
       "  border: var(--sklearn-color-unfitted-level-1) 1pt solid;\n",
       "  color: var(--sklearn-color-unfitted-level-1);\n",
       "}\n",
       "\n",
       ".sk-estimator-doc-link.fitted,\n",
       "a:link.sk-estimator-doc-link.fitted,\n",
       "a:visited.sk-estimator-doc-link.fitted {\n",
       "  /* fitted */\n",
       "  border: var(--sklearn-color-fitted-level-1) 1pt solid;\n",
       "  color: var(--sklearn-color-fitted-level-1);\n",
       "}\n",
       "\n",
       "/* On hover */\n",
       "div.sk-estimator:hover .sk-estimator-doc-link:hover,\n",
       ".sk-estimator-doc-link:hover,\n",
       "div.sk-label-container:hover .sk-estimator-doc-link:hover,\n",
       ".sk-estimator-doc-link:hover {\n",
       "  /* unfitted */\n",
       "  background-color: var(--sklearn-color-unfitted-level-3);\n",
       "  color: var(--sklearn-color-background);\n",
       "  text-decoration: none;\n",
       "}\n",
       "\n",
       "div.sk-estimator.fitted:hover .sk-estimator-doc-link.fitted:hover,\n",
       ".sk-estimator-doc-link.fitted:hover,\n",
       "div.sk-label-container:hover .sk-estimator-doc-link.fitted:hover,\n",
       ".sk-estimator-doc-link.fitted:hover {\n",
       "  /* fitted */\n",
       "  background-color: var(--sklearn-color-fitted-level-3);\n",
       "  color: var(--sklearn-color-background);\n",
       "  text-decoration: none;\n",
       "}\n",
       "\n",
       "/* Span, style for the box shown on hovering the info icon */\n",
       ".sk-estimator-doc-link span {\n",
       "  display: none;\n",
       "  z-index: 9999;\n",
       "  position: relative;\n",
       "  font-weight: normal;\n",
       "  right: .2ex;\n",
       "  padding: .5ex;\n",
       "  margin: .5ex;\n",
       "  width: min-content;\n",
       "  min-width: 20ex;\n",
       "  max-width: 50ex;\n",
       "  color: var(--sklearn-color-text);\n",
       "  box-shadow: 2pt 2pt 4pt #999;\n",
       "  /* unfitted */\n",
       "  background: var(--sklearn-color-unfitted-level-0);\n",
       "  border: .5pt solid var(--sklearn-color-unfitted-level-3);\n",
       "}\n",
       "\n",
       ".sk-estimator-doc-link.fitted span {\n",
       "  /* fitted */\n",
       "  background: var(--sklearn-color-fitted-level-0);\n",
       "  border: var(--sklearn-color-fitted-level-3);\n",
       "}\n",
       "\n",
       ".sk-estimator-doc-link:hover span {\n",
       "  display: block;\n",
       "}\n",
       "\n",
       "/* \"?\"-specific style due to the `<a>` HTML tag */\n",
       "\n",
       "#sk-container-id-1 a.estimator_doc_link {\n",
       "  float: right;\n",
       "  font-size: 1rem;\n",
       "  line-height: 1em;\n",
       "  font-family: monospace;\n",
       "  background-color: var(--sklearn-color-background);\n",
       "  border-radius: 1rem;\n",
       "  height: 1rem;\n",
       "  width: 1rem;\n",
       "  text-decoration: none;\n",
       "  /* unfitted */\n",
       "  color: var(--sklearn-color-unfitted-level-1);\n",
       "  border: var(--sklearn-color-unfitted-level-1) 1pt solid;\n",
       "}\n",
       "\n",
       "#sk-container-id-1 a.estimator_doc_link.fitted {\n",
       "  /* fitted */\n",
       "  border: var(--sklearn-color-fitted-level-1) 1pt solid;\n",
       "  color: var(--sklearn-color-fitted-level-1);\n",
       "}\n",
       "\n",
       "/* On hover */\n",
       "#sk-container-id-1 a.estimator_doc_link:hover {\n",
       "  /* unfitted */\n",
       "  background-color: var(--sklearn-color-unfitted-level-3);\n",
       "  color: var(--sklearn-color-background);\n",
       "  text-decoration: none;\n",
       "}\n",
       "\n",
       "#sk-container-id-1 a.estimator_doc_link.fitted:hover {\n",
       "  /* fitted */\n",
       "  background-color: var(--sklearn-color-fitted-level-3);\n",
       "}\n",
       "</style><div id=\"sk-container-id-1\" class=\"sk-top-container\"><div class=\"sk-text-repr-fallback\"><pre>LinearRegression()</pre><b>In a Jupyter environment, please rerun this cell to show the HTML representation or trust the notebook. <br />On GitHub, the HTML representation is unable to render, please try loading this page with nbviewer.org.</b></div><div class=\"sk-container\" hidden><div class=\"sk-item\"><div class=\"sk-estimator fitted sk-toggleable\"><input class=\"sk-toggleable__control sk-hidden--visually\" id=\"sk-estimator-id-1\" type=\"checkbox\" checked><label for=\"sk-estimator-id-1\" class=\"sk-toggleable__label fitted sk-toggleable__label-arrow fitted\">&nbsp;&nbsp;LinearRegression<a class=\"sk-estimator-doc-link fitted\" rel=\"noreferrer\" target=\"_blank\" href=\"https://scikit-learn.org/1.5/modules/generated/sklearn.linear_model.LinearRegression.html\">?<span>Documentation for LinearRegression</span></a><span class=\"sk-estimator-doc-link fitted\">i<span>Fitted</span></span></label><div class=\"sk-toggleable__content fitted\"><pre>LinearRegression()</pre></div> </div></div></div></div>"
      ],
      "text/plain": [
       "LinearRegression()"
      ]
     },
     "execution_count": 3,
     "metadata": {},
     "output_type": "execute_result"
    }
   ],
   "source": [
    "#Le choix du modèle\n",
    "model = LinearRegression()\n",
    "model.fit(X, y)"
   ]
  },
  {
   "cell_type": "code",
   "execution_count": 4,
   "id": "4667025d-e350-41f5-ae82-227ce731a1eb",
   "metadata": {},
   "outputs": [],
   "source": [
    "#Prédiction\n",
    "y_pred = model.predict(X)"
   ]
  },
  {
   "cell_type": "markdown",
   "id": "4af29e62-b08f-43e1-9337-4b7e7b1dd5cf",
   "metadata": {},
   "source": [
    "#### Fonction de prédiction"
   ]
  },
  {
   "cell_type": "code",
   "execution_count": 5,
   "id": "bdb75a10-3751-43af-8fd0-84f308a7ed24",
   "metadata": {},
   "outputs": [],
   "source": [
    "def prédire(details) :\n",
    "    features = np.array(details).reshape(-1,8)\n",
    "    return model.predict(features)"
   ]
  },
  {
   "cell_type": "code",
   "execution_count": 6,
   "id": "7e2b1703-da2a-4615-a1bb-51da7273c0db",
   "metadata": {},
   "outputs": [
    {
     "name": "stdout",
     "output_type": "stream",
     "text": [
      "Le prix estimé pour une maison ayant ces détails est de [396765.90594112] USD\n"
     ]
    }
   ],
   "source": [
    "## details = [MedInc,HouseAge,AveRooms,AveBedrms,Population,AveOccup,Latitude,Longitude]\n",
    "details=[9, 10, 7, 1, 500, 2, 38, -122]\n",
    "prix = prédire(details)\n",
    "\n",
    "print(f\"Le prix estimé pour une maison ayant ces détails est de {prix*100000} USD\")"
   ]
  },
  {
   "cell_type": "markdown",
   "id": "e9ea47c3-d81a-47dd-a024-c5f10ceab95d",
   "metadata": {},
   "source": [
    "# IV. La classification"
   ]
  },
  {
   "cell_type": "markdown",
   "id": "59e00899-a0cf-41ff-a3df-b3497a3967dc",
   "metadata": {},
   "source": [
    "#### 1. Les bases\n",
    "\n",
    "**- on cherche à prédire une classe**\n",
    "\n",
    "**- Exemple :La logique est similaire pour prédire une classe. Imaginez que vous souhaitiez apprendre à reconnaître un chien ou un chat en vous basant sur sa taille et son poids. Pour cela, il est nécessaire de fournir à la machine un jeu de données (X, y) afin qu’elle s’entraîne dessus.**\n",
    "\n",
    "![](img/class1.png)"
   ]
  },
  {
   "cell_type": "markdown",
   "id": "ff7a5b3e-89cd-4e05-9734-1287563c2c00",
   "metadata": {},
   "source": [
    "#### 2. Exemple pratique\n",
    "\n",
    "# Problème  \n",
    "\n",
    "## Contexte  \n",
    "Vous êtes un analyste de données travaillant pour une institution financière spécialisée dans l'octroi de prêts. Votre entreprise souhaite mieux comprendre les caractéristiques des emprunteurs afin de prédire si un prêt sera approuvé ou non. Vous décidez d'utiliser un modèle de classification pour prédire le statut du prêt en fonction des différentes caractéristiques des emprunteurs et des informations financières.\n",
    "\n",
    "---\n",
    "\n",
    "## Objectif  \n",
    "Prédire si un prêt sera **approuvé** (1) ou **rejeté** (0) en fonction des caractéristiques suivantes :\n",
    "\n",
    "- **no_of_dependents** : Nombre de personnes à charge.\n",
    "- **education** : Niveau d'éducation de l'emprunteur (Graduate/Not Graduate).\n",
    "- **self_employed** : Si l'emprunteur est travailleur indépendant (Yes/No).\n",
    "- **income_annum** : Revenu annuel de l'emprunteur en dollars (USD).  \n",
    "- **loan_amount** : Montant total du prêt demandé en milliers de dollars (USD).  \n",
    "- **loan_term** : Durée du prêt en mois.  \n",
    "- **cibil_score** : Score de crédit (CIBIL).  \n",
    "- **residential_assets_value** : Valeur totale des biens résidentiels détenus (en dollars).  \n",
    "- **commercial_assets_value** : Valeur totale des biens commerciaux détenus (en dollars).  \n",
    "- **luxury_assets_value** : Valeur totale des biens de luxe détenus (en dollars).  \n",
    "- **bank_asset_value** : Valeur totale des actifs bancaires détenus (en dollars).  \n",
    "\n",
    "---\n",
    "\n",
    "## Données  \n",
    "Vous disposez d’un dataset contenant les informations suivantes :  \n",
    "\n",
    "- **X** : Un tableau contenant les caractéristiques des emprunteurs (ex. : nombre de personnes à charge, score de crédit, montant du prêt, etc.).  \n",
    "- **y** : Une variable binaire indiquant si le prêt a été approuvé (**1**) ou rejeté (**0**).  \n",
    "\n",
    "---\n",
    "\n",
    "## Modèle et Approche  \n",
    "Vous devez :  \n",
    "1. Préparer les données, en encodant les variables catégorielles comme **education** et **self_employed**.  \n",
    "2. Normaliser les données numériques pour améliorer les performances du modèle.  \n",
    "3. Utiliser un modèle de classification, tel que **K-Nearest Neighbors (KNN)**, pour prédire le statut du prêt.  \n",
    "4. Évaluer les performances du modèle en utilisant des métriques telles que **accuracy**, **precision**, **recall**, et **F1-score**.\n",
    "\n"
   ]
  },
  {
   "cell_type": "code",
   "execution_count": 7,
   "id": "bc639539-a853-47e0-8ac4-87658024a83e",
   "metadata": {},
   "outputs": [],
   "source": [
    "import pandas as pd\n",
    "import numpy as np\n",
    "from sklearn.ensemble import RandomForestClassifier\n",
    "from sklearn.preprocessing import LabelEncoder\n",
    "from sklearn.model_selection import train_test_split\n",
    "from sklearn.metrics import accuracy_score"
   ]
  },
  {
   "cell_type": "code",
   "execution_count": 8,
   "id": "264033ce-1008-4fb0-ae38-ea5ddba7a551",
   "metadata": {},
   "outputs": [],
   "source": [
    "# Importer les données\n",
    "data = pd.read_csv(\"data/loan_approval_dataset.csv\")"
   ]
  },
  {
   "cell_type": "code",
   "execution_count": 9,
   "id": "3a778bf9-98e0-40ae-a89b-1c2fceb37f38",
   "metadata": {},
   "outputs": [],
   "source": [
    "# Définir les caractéristiques et la cible\n",
    "X = data.drop(columns=['loan_id', ' loan_status'])\n",
    "y = data[' loan_status']"
   ]
  },
  {
   "cell_type": "code",
   "execution_count": 10,
   "id": "3e7bac10-7468-4ebf-a3d2-446f6a419897",
   "metadata": {},
   "outputs": [],
   "source": [
    "#Encoder\n",
    "encoder = LabelEncoder()\n",
    "# Identifier les colonnes catégorielles\n",
    "categorical_columns = [' education', ' self_employed']\n",
    "\n",
    "for column in categorical_columns : \n",
    "    X[column] = encoder.fit_transform(X[column])"
   ]
  },
  {
   "cell_type": "code",
   "execution_count": 11,
   "id": "d9d9461e-c11a-436a-9b89-222ef8c7a36d",
   "metadata": {},
   "outputs": [],
   "source": [
    "X_train, X_test, y_train, y_test = train_test_split(X, y, test_size=0.2, random_state=0)"
   ]
  },
  {
   "cell_type": "code",
   "execution_count": 12,
   "id": "5fb891e4-2c98-45d2-8fe1-bd516a927836",
   "metadata": {},
   "outputs": [],
   "source": [
    "model = RandomForestClassifier()"
   ]
  },
  {
   "cell_type": "code",
   "execution_count": 13,
   "id": "233a1164-2455-4be3-9a5e-7404435c165a",
   "metadata": {},
   "outputs": [],
   "source": [
    "# Entraîner le modèle\n",
    "model.fit(X_train, y_train)\n",
    "\n",
    "# Prédire sur l'ensemble de test\n",
    "y_pred = model.predict(X_test)"
   ]
  },
  {
   "cell_type": "code",
   "execution_count": 14,
   "id": "c36b9618-77f1-400e-ae0d-9787a20a7b47",
   "metadata": {},
   "outputs": [
    {
     "name": "stdout",
     "output_type": "stream",
     "text": [
      "Accuracy: 0.9871194379391101\n"
     ]
    }
   ],
   "source": [
    "# Évaluer les performances\n",
    "print(\"Accuracy:\", accuracy_score(y_test, y_pred))"
   ]
  },
  {
   "cell_type": "code",
   "execution_count": 15,
   "id": "0cb448a0-1cd1-4450-82ef-2cd0c6ff4084",
   "metadata": {},
   "outputs": [
    {
     "name": "stdout",
     "output_type": "stream",
     "text": [
      "Statut du prêt prédit : Rejeté\n"
     ]
    }
   ],
   "source": [
    "#Test du modèle\n",
    "new_loan_data = pd.DataFrame([{\n",
    "    ' no_of_dependents': 1,\n",
    "    ' education': 0,\n",
    "    ' self_employed': 1,\n",
    "    ' income_annum': 55000,\n",
    "    ' loan_amount': 110,\n",
    "    ' loan_term': 300,\n",
    "    ' cibil_score': 680,\n",
    "    ' residential_assets_value': 90000,\n",
    "    ' commercial_assets_value': 40000,\n",
    "    ' luxury_assets_value': 25000,\n",
    "    ' bank_asset_value': 120000\n",
    "}])\n",
    "\n",
    "\n",
    "# Prédiction\n",
    "loan_status_prediction = model.predict(new_loan_data)\n",
    "\n",
    "\n",
    "print(\"Statut du prêt prédit :\", \"Approuvé\" if loan_status_prediction[0] == 1 else \"Rejeté\")"
   ]
  },
  {
   "cell_type": "markdown",
   "id": "6df2a268-ea93-4965-a9e5-d3cfb3856d1d",
   "metadata": {},
   "source": [
    "# Pour mieux se documenter et approfondir : \n",
    "\n",
    "#### Tuto vidéos : \n",
    "- https://www.youtube.com/watch?v=EUD07IiviJg&list=PLO_fdPEVlfKqUF5BPKjGSh7aV9aBshrpY\n",
    "  \n",
    "\n",
    "#### Documentation : \n",
    "- https://scikit-learn.org/stable/\n",
    "  "
   ]
  }
 ],
 "metadata": {
  "kernelspec": {
   "display_name": "Python 3 (ipykernel)",
   "language": "python",
   "name": "python3"
  },
  "language_info": {
   "codemirror_mode": {
    "name": "ipython",
    "version": 3
   },
   "file_extension": ".py",
   "mimetype": "text/x-python",
   "name": "python",
   "nbconvert_exporter": "python",
   "pygments_lexer": "ipython3",
   "version": "3.12.3"
  }
 },
 "nbformat": 4,
 "nbformat_minor": 5
}
